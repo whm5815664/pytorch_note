{
 "cells": [
  {
   "cell_type": "markdown",
   "id": "vocational-assessment",
   "metadata": {},
   "source": [
    "# 手写数字识别\n",
    "\n",
    "\n",
    "### 问题：分类问题（10类）\n",
    "\n",
    "### 输入：灰度图像（28×28个像素）\n",
    "\n",
    "### 输出：分类0-9"
   ]
  },
  {
   "cell_type": "markdown",
   "id": "cd78c8d8",
   "metadata": {},
   "source": [
    "# 0.超参数设置"
   ]
  },
  {
   "cell_type": "code",
   "execution_count": 1,
   "id": "513206fb",
   "metadata": {},
   "outputs": [],
   "source": [
    "\n",
    "\"\"\"\n",
    "每次在训练集中提取64张图像进行批量化训练，目的是提高训练速度。\n",
    "就好比搬砖，一次搬一块砖头的效率肯定要比一次能搬64块要低得多\n",
    "\"\"\"\n",
    "BATCH_SIZE = 64\n",
    "#学习率，学习率一般为0.01，0.1等等较小的数，为了在梯度下降求解时避免错过最优解\n",
    "LR = 0.001\n",
    "\"\"\"\n",
    "EPOCH 假如现在我有1000张训练图像，因为每次训练是64张，\n",
    "每当我1000张图像训练完就是一个EPOCH，训练多少个EPOCH自己决定\n",
    "\"\"\"\n",
    "EPOCH = 1\n",
    "\"\"\"\n",
    "现在我要训练的训练集是系统自带的，需要先下载数据集，\n",
    "当DOWNLOAD_MNIST为True是表示学要下载数据集，一但下载完，保存\n",
    "然后这个参数就可以改为False，表示不用再次下载\n",
    "\"\"\"\n",
    "DOWNLOAD_MNIST = True\n"
   ]
  },
  {
   "cell_type": "markdown",
   "id": "statistical-great",
   "metadata": {},
   "source": [
    "# 1.导入数据\n",
    "\n",
    "### 原始数据（来自keras.datasets.mnist）"
   ]
  },
  {
   "cell_type": "code",
   "execution_count": 2,
   "id": "monetary-excellence",
   "metadata": {},
   "outputs": [],
   "source": [
    "# 手动导入数据\n",
    "from tensorflow.keras.datasets import mnist\n",
    "\n",
    "(train_images, train_labels), (test_images, test_labels) = mnist.load_data() #mnist.load_data('路径')为下载并保存数据集位置，默认位置在C:\\Users\\管理员\\.keras"
   ]
  },
  {
   "cell_type": "code",
   "execution_count": 3,
   "id": "98fb8fad",
   "metadata": {},
   "outputs": [
    {
     "data": {
      "text/plain": [
       "'\\n# pytorch导入\\n\\nimport torch\\nimport torchvision\\nfrom torch.autograd import Variable\\nfrom torch.utils.data import Dataset, TensorDataset, DataLoader\\n\\n#训练集\\n# 读取\\ntrain_data = torchvision.datasets.MNIST(\\n    root=\\'./mnist\\',\\n    train = True,\\n    transform=torchvision.transforms.ToTensor(),\\n    download=DOWNLOAD_MNIST\\n)\\n\\n# 划分\\ntrain_loader = DataLoader(dataset=train_data, batch_size=BATCH_SIZE, shuffle=True, num_workers=2 )\\n#每个batch_size的shape为[64, 1, 28, 28]\\nprint(\"样本\")\\nprint(train_data.train_data.shape)\\nprint(train_data.train_data[:3])\\nprint(\"标签\")\\nprint(train_data.train_labels.shape)\\nprint(train_data.train_labels[:3])\\n\\n\\n\\n# 测试集\\n# 读取\\ntest_data = torchvision.datasets.MNIST(\\n    root=\\'./mnist\\',\\n    train = False,\\n)\\n\\n# 处理\\n\\ntest_x = Variable(torch.unsqueeze(test_data.test_data, dim=1), volatile=True).type(torch.FloatTensor)[:2000]/255.0\\n\"\"\"\\ntest_data.test_data中的shape为[10000, 28, 28]代表1w张图像，都是28x28，当时并未表明channels,因此在unsqueeze在1方向想加一个维度，\\n则shape变为[10000, 1, 28, 28]，然后转化为tensor的float32类型，取1w张中的2000张，并且将其图片进行归一化处理，避免图像几何变换的影响\\n\"\"\"\\n#标签取前2000\\ntest_y = test_data.test_labels[:2000]\\n\\nprint(\"样本\")\\nprint(test_x.shape)\\nprint(test_x[:3])\\nprint(\"标签\")\\nprint(test_y.shape)\\nprint(test_y[:3])\\n\\n\\n'"
      ]
     },
     "execution_count": 3,
     "metadata": {},
     "output_type": "execute_result"
    }
   ],
   "source": [
    "'''\n",
    "# pytorch导入\n",
    "\n",
    "import torch\n",
    "import torchvision\n",
    "from torch.autograd import Variable\n",
    "from torch.utils.data import Dataset, TensorDataset, DataLoader\n",
    "\n",
    "#训练集\n",
    "# 读取\n",
    "train_data = torchvision.datasets.MNIST(\n",
    "    root='./mnist',\n",
    "    train = True,\n",
    "    transform=torchvision.transforms.ToTensor(),\n",
    "    download=DOWNLOAD_MNIST\n",
    ")\n",
    "\n",
    "# 划分\n",
    "train_loader = DataLoader(dataset=train_data, batch_size=BATCH_SIZE, shuffle=True, num_workers=2 )\n",
    "#每个batch_size的shape为[64, 1, 28, 28]\n",
    "print(\"样本\")\n",
    "print(train_data.train_data.shape)\n",
    "print(train_data.train_data[:3])\n",
    "print(\"标签\")\n",
    "print(train_data.train_labels.shape)\n",
    "print(train_data.train_labels[:3])\n",
    "\n",
    "\n",
    "\n",
    "# 测试集\n",
    "# 读取\n",
    "test_data = torchvision.datasets.MNIST(\n",
    "    root='./mnist',\n",
    "    train = False,\n",
    ")\n",
    "\n",
    "# 处理\n",
    "\n",
    "test_x = Variable(torch.unsqueeze(test_data.test_data, dim=1), volatile=True).type(torch.FloatTensor)[:2000]/255.0\n",
    "\"\"\"\n",
    "test_data.test_data中的shape为[10000, 28, 28]代表1w张图像，都是28x28，当时并未表明channels,因此在unsqueeze在1方向想加一个维度，\n",
    "则shape变为[10000, 1, 28, 28]，然后转化为tensor的float32类型，取1w张中的2000张，并且将其图片进行归一化处理，避免图像几何变换的影响\n",
    "\"\"\"\n",
    "#标签取前2000\n",
    "test_y = test_data.test_labels[:2000]\n",
    "\n",
    "print(\"样本\")\n",
    "print(test_x.shape)\n",
    "print(test_x[:3])\n",
    "print(\"标签\")\n",
    "print(test_y.shape)\n",
    "print(test_y[:3])\n",
    "\n",
    "\n",
    "'''"
   ]
  },
  {
   "cell_type": "markdown",
   "id": "reverse-craps",
   "metadata": {},
   "source": [
    "# 2.创建自己的Datasets数据集\n",
    "\n",
    "from torch.utils.data import Dataset, TensorDataset ,DataLoader\n",
    "\n",
    "\n",
    ">1.将数据转为tensor格式\n",
    ">>`数据 = torch.tensor(mumpy数据)` \n",
    "\n",
    "\n",
    ">2.数据处理\n",
    ">>图像数据处理：\n",
    ">>>**图像数据列表维度shape：[图像数量,通道维数,图像长像素,图像宽像素]**  \n",
    ">>>缺少通道维黑白图像处理:`图片样本data = Variable(torch.unsqueeze(图片样本data, dim=1), volatile=True).type(torch.FloatTensor)/255`  \n",
    ">>>数据类型转换:`数据变量 = 数据变量.type(torch.FloatTensor)`\n",
    "\n",
    ">>标签处理\n",
    ">>>转换为one-hot编码:`标签labels = utils.to_categorical(标签labels)`  \n",
    ">>>标签转换成long数据格式：`标签labels = 标签labels.long()`\n",
    "\n",
    ">3.创建数据集\n",
    ">>`数据集 = TensorDataset(样本data, 标签labels)`\n",
    "\n",
    ">4.加载数据集\n",
    ">>`train_loader = DataLoader(train_dataset, batch_size=120)`"
   ]
  },
  {
   "cell_type": "code",
   "execution_count": 4,
   "id": "4d962467",
   "metadata": {},
   "outputs": [
    {
     "data": {
      "text/plain": [
       "'\\n# 对分类标签y进行one-hot编码  utils.to_categorical(标签列表, num_classes=标签类别数, dtype=\\'编码后标签格式\\')\\nfrom tensorflow.keras import utils\\n\\nprint(\"编码前\")\\nprint(train_labels)\\n\\ntrain_labels = utils.to_categorical(train_labels)\\ntest_labels = utils.to_categorical(test_labels)\\n\\nprint(\"编码后\")\\nprint(train_labels)\\n'"
      ]
     },
     "execution_count": 4,
     "metadata": {},
     "output_type": "execute_result"
    }
   ],
   "source": [
    "'''\n",
    "# 对分类标签y进行one-hot编码  utils.to_categorical(标签列表, num_classes=标签类别数, dtype='编码后标签格式')\n",
    "from tensorflow.keras import utils\n",
    "\n",
    "print(\"编码前\")\n",
    "print(train_labels)\n",
    "\n",
    "train_labels = utils.to_categorical(train_labels)\n",
    "test_labels = utils.to_categorical(test_labels)\n",
    "\n",
    "print(\"编码后\")\n",
    "print(train_labels)\n",
    "'''"
   ]
  },
  {
   "cell_type": "code",
   "execution_count": 5,
   "id": "2900642b",
   "metadata": {},
   "outputs": [
    {
     "name": "stdout",
     "output_type": "stream",
     "text": [
      "[[[0 0 0 ... 0 0 0]\n",
      "  [0 0 0 ... 0 0 0]\n",
      "  [0 0 0 ... 0 0 0]\n",
      "  ...\n",
      "  [0 0 0 ... 0 0 0]\n",
      "  [0 0 0 ... 0 0 0]\n",
      "  [0 0 0 ... 0 0 0]]\n",
      "\n",
      " [[0 0 0 ... 0 0 0]\n",
      "  [0 0 0 ... 0 0 0]\n",
      "  [0 0 0 ... 0 0 0]\n",
      "  ...\n",
      "  [0 0 0 ... 0 0 0]\n",
      "  [0 0 0 ... 0 0 0]\n",
      "  [0 0 0 ... 0 0 0]]\n",
      "\n",
      " [[0 0 0 ... 0 0 0]\n",
      "  [0 0 0 ... 0 0 0]\n",
      "  [0 0 0 ... 0 0 0]\n",
      "  ...\n",
      "  [0 0 0 ... 0 0 0]\n",
      "  [0 0 0 ... 0 0 0]\n",
      "  [0 0 0 ... 0 0 0]]\n",
      "\n",
      " ...\n",
      "\n",
      " [[0 0 0 ... 0 0 0]\n",
      "  [0 0 0 ... 0 0 0]\n",
      "  [0 0 0 ... 0 0 0]\n",
      "  ...\n",
      "  [0 0 0 ... 0 0 0]\n",
      "  [0 0 0 ... 0 0 0]\n",
      "  [0 0 0 ... 0 0 0]]\n",
      "\n",
      " [[0 0 0 ... 0 0 0]\n",
      "  [0 0 0 ... 0 0 0]\n",
      "  [0 0 0 ... 0 0 0]\n",
      "  ...\n",
      "  [0 0 0 ... 0 0 0]\n",
      "  [0 0 0 ... 0 0 0]\n",
      "  [0 0 0 ... 0 0 0]]\n",
      "\n",
      " [[0 0 0 ... 0 0 0]\n",
      "  [0 0 0 ... 0 0 0]\n",
      "  [0 0 0 ... 0 0 0]\n",
      "  ...\n",
      "  [0 0 0 ... 0 0 0]\n",
      "  [0 0 0 ... 0 0 0]\n",
      "  [0 0 0 ... 0 0 0]]]\n",
      "torch.Size([60000, 28, 28])\n",
      "torch.Size([60000, 1, 28, 28])\n"
     ]
    },
    {
     "name": "stderr",
     "output_type": "stream",
     "text": [
      "<ipython-input-5-8705a23add60>:23: UserWarning: volatile was removed and now has no effect. Use `with torch.no_grad():` instead.\n",
      "  train_images = Variable(torch.unsqueeze(train_images, dim=1), volatile=True).type(torch.FloatTensor)/255\n",
      "<ipython-input-5-8705a23add60>:24: UserWarning: volatile was removed and now has no effect. Use `with torch.no_grad():` instead.\n",
      "  test_images = Variable(torch.unsqueeze(test_images, dim=1), volatile=True).type(torch.FloatTensor)/255\n"
     ]
    }
   ],
   "source": [
    "import torch\n",
    "from torch.autograd import Variable\n",
    "from torch.utils.data import Dataset, TensorDataset, DataLoader\n",
    "\n",
    "print(train_images)\n",
    "\n",
    "# 1.把数据转换成tensor格式\n",
    "train_images = torch.tensor(train_images)\n",
    "train_labels = torch.tensor(train_labels)\n",
    "\n",
    "test_images = torch.tensor(test_images)\n",
    "test_labels = torch.tensor(test_labels)\n",
    "\n",
    "print(train_images.shape)\n",
    "\n",
    "\n",
    "# 2. 数据处理\n",
    "# 将标签转换成long格式\n",
    "train_labels = train_labels.long()\n",
    "test_labels = test_labels.long()\n",
    "\n",
    "# 图像数据调整增加维度 [图片数, 长, 宽]->[图片数, 通道数, 长, 宽], 将数据转为tensor的Float格式\n",
    "train_images = Variable(torch.unsqueeze(train_images, dim=1), volatile=True).type(torch.FloatTensor)/255\n",
    "test_images = Variable(torch.unsqueeze(test_images, dim=1), volatile=True).type(torch.FloatTensor)/255\n",
    "\n",
    "print(train_images.shape)\n",
    "\n",
    "\n",
    "# 3.创建数据集\n",
    "train_dataset = TensorDataset(train_images, train_labels)\n",
    "test_dataset = TensorDataset(test_images, test_labels)\n",
    "\n",
    "\n",
    "# 4.加载数据集\n",
    "train_loader = DataLoader(dataset=train_dataset, batch_size=BATCH_SIZE, shuffle=True, num_workers=2)\n",
    "test_loader =DataLoader(test_dataset, batch_size=120)"
   ]
  },
  {
   "cell_type": "markdown",
   "id": "analyzed-duration",
   "metadata": {},
   "source": [
    "# 3.构建网络\n",
    "\n",
    "```python\n",
    "# 导入包\n",
    "import torch\n",
    "from torch import nn, optim\n",
    "import torch.nn.functional as F\n",
    "\n",
    "# 定义神经网络类\n",
    "class 自定义神经网络类名(nn.Module):\n",
    "    # 可学习参数的层（如全连接层、卷积层等）\n",
    "    def __init__(self):\n",
    "        super().__init__()\n",
    "        self.自定义layer名1 = nn.layer层(参数)\n",
    "        self.自定义layer名2 = nn.layer层(参数)\n",
    "        self.自定义layer名3 = nn.Sequential(\n",
    "            nn.layer层(参数)，\n",
    "            nn.layer层(参数)\n",
    "        ）\n",
    "        \n",
    "    # 实现模型的功能，实现各个层之间的连接关系\n",
    "    # nn.functional实现不具有可学习参数的层(如ReLU、dropout、BatchNormanation层)的构造\n",
    "    def forward(self, x):\n",
    "        x = self.自定义layer名1(x)\n",
    "        x = F.不可学习参数层(x)\n",
    "        x = self.自定义layer名2(x)\n",
    "        x = 不可学习参数层(自定义layer名3(x)\n",
    "        return x\n",
    "\n",
    "\n",
    "# 实例化神经网络\n",
    "model实例 = 自定义神经网络类名()\n",
    "\n",
    "\n",
    "# 保存模型\n",
    "torch.save(model实例, '存储路径')\n",
    "\n",
    "# 加载模型\n",
    "model = torch.load(\"model.pth\")\n",
    "\n",
    "```"
   ]
  },
  {
   "cell_type": "markdown",
   "id": "b71b2bd5",
   "metadata": {},
   "source": [
    "### 3.1 注意力机制模块"
   ]
  },
  {
   "cell_type": "markdown",
   "id": "d72731e7",
   "metadata": {},
   "source": [
    "#### （1）注意力机制1 eca注意力模块"
   ]
  },
  {
   "cell_type": "code",
   "execution_count": 6,
   "id": "85f8f78e",
   "metadata": {},
   "outputs": [],
   "source": [
    "# eca注意力\n",
    "# -------------------------------------------- #\n",
    "# 实现方式：\n",
    "# 1、对输入进来的特征层进行全局平均池化。\n",
    "# 2、用1*1卷积代替2次全连接。\n",
    "# 3、取一次Sigmoid将值固定到0-1之间，此时我们获得了输入特征层每一个通道的权值（0-1之间）。\n",
    "# 4、在获得这个权值后，我们将这个权值乘上原输入特征层即可。\n",
    "# -------------------------------------------- #\n",
    "\n",
    "\n",
    "import torch\n",
    "import torch.nn as nn\n",
    "import math\n",
    "\n",
    "\n",
    "\n",
    "class eca_block(nn.Module):\n",
    "    def __init__(self, channel, b=1, gamma=2):  # channel通道数：用于计算卷积核大小\n",
    "        super(eca_block, self).__init__()\n",
    "        # 通过输入通道数自适应计算卷积核大小\n",
    "        kernel_size = int(abs((math.log(channel, 2) + b) / gamma))\n",
    "        kernel_size = kernel_size if kernel_size % 2 else kernel_size + 1\n",
    "\n",
    "        self.avg_pool = nn.AdaptiveAvgPool2d(1)  # # 全局平均池化层\n",
    "        self.conv = nn.Conv1d(1, 1, kernel_size=kernel_size, padding=(kernel_size - 1) // 2, bias=False)  # 1*1卷积代替全连接\n",
    "        self.sigmoid = nn.Sigmoid()  # 获取每个特征点的权重\n",
    "\n",
    "    def forward(self, x):\n",
    "        y = self.avg_pool(x)\n",
    "        y = self.conv(y.squeeze(-1).transpose(-1, -2)).transpose(-1, -2).unsqueeze(-1)\n",
    "        y = self.sigmoid(y)\n",
    "        return x * y.expand_as(x)\n",
    "    "
   ]
  },
  {
   "cell_type": "markdown",
   "id": "86fb37fb",
   "metadata": {},
   "source": [
    "#### （2）注意力机制2 CBAM模块"
   ]
  },
  {
   "cell_type": "code",
   "execution_count": 7,
   "id": "3310e2bd",
   "metadata": {},
   "outputs": [],
   "source": [
    "# CBAM = 通道注意力机制 + 空间注意力机制\n",
    "\n",
    "\n",
    "# 通道注意力机制\n",
    "# ------------------------------ #\n",
    "# 1.对输入进来的单个特征层，分别进行全局平均池化和全局最大池化（消除像素空间hw维度，保留通道维度c）\n",
    "# 2.对平均池化和最大池化的结果，利用共享的全连接层进行处理\n",
    "# 3.对处理后的两个结果进行相加，然后取一个sigmoid, 获得输入特征层每一个通道的权值（0-1之间）\n",
    "# 4.将这个权值乘上原输入特征层\n",
    "# ------------------------------ #\n",
    "\n",
    "\n",
    "import torch\n",
    "import torch.nn as nn\n",
    "import math\n",
    "\n",
    "\n",
    "class ChannelAttention(nn.Module):\n",
    "    def __init__(self, channel, ratio=8):\n",
    "        super(ChannelAttention, self).__init__()\n",
    "        self.avg_pool = nn.AdaptiveAvgPool2d(1)  # 全局平均池化层,输出尺寸为[图片数b,通道数c,1,1]\n",
    "        self.max_pool = nn.AdaptiveMaxPool2d(1)  # 全局最大池化层,输出尺寸为[图片数b,通道数c,1,1]\n",
    "\n",
    "        # 共享的全连接\n",
    "        self.fc = nn.Sequential(\n",
    "            nn.Linear(channel, channel // ratio, False),  # 第一次全连接\n",
    "            nn.ReLU(),\n",
    "            nn.Linear(channel // ratio, channel, False)  # 第二次全连接\n",
    "        )\n",
    "        # 可利用1x1卷积代替全连接\n",
    "        # self.fc1   = nn.Conv2d(in_planes, in_planes // ratio, 1, bias=False)\n",
    "        # self.relu1 = nn.ReLU()\n",
    "        # self.fc2   = nn.Conv2d(in_planes // ratio, in_planes, 1, bias=False)\n",
    "\n",
    "        # sigmoid层\n",
    "        self.sigmoid = nn.Sigmoid()\n",
    "\n",
    "    def forward(self, x):\n",
    "        b, c, h, w = x.size()  # 计算输入特征层的size：图片数b, 通道数c, 高h, 宽w\n",
    "        max_pool_out = self.max_pool(x).view([b, c])  # 1.全局最大池化，并转换格式为[图片数,通道数](消除图片像素hw维度)\n",
    "        avg_pool_out = self.avg_pool(x).view([b, c])  # 1.全局平均池化，并转换格式为[图片数,通道数](消除图片像素hw维度)\n",
    "\n",
    "        max_fc_out = self.fc(max_pool_out)  # 2.全局最大池化结果进行共享的全连接层进行处理\n",
    "        avg_fc_out = self.fc(avg_pool_out)  # 2.全局平均池化结果进行共享的全连接层进行处理\n",
    "\n",
    "        out = max_fc_out + avg_fc_out  # 3.对处理后的两个结果进行相加\n",
    "        out = self.sigmoid(out).view([b, c, 1, 1])  # 3. 然后取一个sigmoid，获得输入特征层每一个特征点的权值\n",
    "        return out\n",
    "\n",
    "        # avg_out = self.fc2(self.relu1(self.fc1(self.avg_pool(x))))  # 全局平均池化->全连接\n",
    "        # max_out = self.fc2(self.relu1(self.fc1(self.max_pool(x))))\n",
    "        # out = avg_out + max_out\n",
    "        # return self.sigmoid(out)\n",
    "\n",
    "\n",
    "\n",
    "# 空间注意力机制\n",
    "# ------------------------------ #\n",
    "# 1. 会对输入进来的特征层，在每一个特征点的通道上取最大值和平均值(图片中同一像素点上的不同维度平均值，消除通道维c，保留像素空间hw维)\n",
    "# 2. 将这两个结果进行一个堆叠，利用一次通道数为1的卷积调整通道数\n",
    "# 3. 取一个sigmoid获得输入特征层每一个特征点的权值（0-1之间）\n",
    "# 4. 将这个权值乘上原输入特征层\n",
    "# ------------------------------ #\n",
    "class SpatialAttention(nn.Module):\n",
    "    def __init__(self, kernel_size=7):\n",
    "        super(SpatialAttention, self).__init__()\n",
    "        assert kernel_size in (3, 7), 'kernel size must be 3 or 7'  # 卷积核conv layer大小必须为3或7\n",
    "        padding = 3 if kernel_size == 7 else 1   # 当卷积核大小为7时，输入的每一条边补充3的层数；当卷积核大小为3时，输入的每一条边补充1的层数\n",
    "\n",
    "        self.conv1 = nn.Conv2d(2, 1, kernel_size, padding=padding, bias=False)  # 卷积：输入维度2[MaxPool,AvgPool]，输出维度1\n",
    "        self.sigmoid = nn.Sigmoid()\n",
    "\n",
    "    def forward(self, x):\n",
    "        avg_out = torch.mean(x, dim=1, keepdim=True)    # 1.在每一个特征点的通道上取平均值(图片中同一像素点上的不同维度平均值) 结果消除通道c维度\n",
    "        max_out, _ = torch.max(x, dim=1, keepdim=True)  # 1.在每一个特征点的通道上取最大值(图片中同一像素点上的不同维度最大值) 结果消除通道c维度\n",
    "\n",
    "        x = torch.cat([avg_out, max_out], dim=1)  # 2.通道维度堆叠\n",
    "        x = self.conv1(x)  # 2.利用一次通道数为1的卷积调整通道数\n",
    "\n",
    "        return self.sigmoid(x)  # 3.取一个sigmoid获得输入特征层每一个特征点的权值\n",
    "\n",
    "\n",
    "\n",
    "# CBAM\n",
    "class cbam_block(nn.Module):\n",
    "    def __init__(self, channel, ratio=8, kernel_size=7):\n",
    "        super(cbam_block, self).__init__()\n",
    "        self.channelattention = ChannelAttention(channel, ratio=ratio)\n",
    "        self.spatialattention = SpatialAttention(kernel_size=kernel_size)\n",
    "\n",
    "    def forward(self, x):\n",
    "        x = x * self.channelattention(x)\n",
    "        x = x * self.spatialattention(x)\n",
    "        return x\n",
    "\n",
    "\n"
   ]
  },
  {
   "cell_type": "markdown",
   "id": "agreed-marble",
   "metadata": {},
   "source": [
    "### 3.2卷积神经网络（主干网络）\n",
    "\n",
    "#### ·可学习layer\n",
    "\n",
    ">**卷积层**\n",
    ">>nn.Conv2d(\n",
    ">>&nbsp;&nbsp;&nbsp;  in_channels = 输入特征矩阵的深度,   \n",
    ">>&nbsp;&nbsp;&nbsp;  out_channels = 卷积核数|输出特征矩阵深度,   \n",
    ">>&nbsp;&nbsp;&nbsp;  kernel_size = (卷积核长, 卷积核宽),   \n",
    ">>&nbsp;&nbsp;&nbsp;  stride = 卷积框步长,   \n",
    ">>&nbsp;&nbsp;&nbsp;  padding = (填充上下行数, 填充左右列数),   \n",
    ">>&nbsp;&nbsp;&nbsp;  dilation = 卷积核元素之间的间距1,   \n",
    ">>&nbsp;&nbsp;&nbsp;  groups = 从输入通道到输出通道的阻塞连接数1,   \n",
    ">>&nbsp;&nbsp;&nbsp;  bias = 添加偏置T/F,   \n",
    ">>&nbsp;&nbsp;&nbsp;  padding_mode = '填充数字zeros'  \n",
    ">>)\n",
    "\n",
    ">>说明：\n",
    ">>>in_channels = 输入通道维的元素数  \n",
    ">>>图像(通道，图像长，图像宽)（黑白图像通道=1，RGB图像通道=3）   \n",
    ">>>out_channels = 提取特征数 = 输出特征矩阵深度 = 输出特征矩阵通道维\n",
    "\n",
    ">**全连接层**\n",
    ">>nn.Linear(in_features=每个输入样本的大小, out_features=每个输出样本的大小)  \n",
    ">>说明：\n",
    "\n",
    "\n",
    "#### ·不可学习layer\n",
    ">**将多维数据转成一维**\n",
    ">>x.view(x.size(0), -1)  \n",
    ">>说明：在卷积层转全连接层之间使用，用在forward(self, x)中"
   ]
  },
  {
   "attachments": {
    "image-2.png": {
     "image/png": "[encoded data removed]"
    },
    "image.png": {
     "image/png": "[encoded data removed]"
    }
   },
   "cell_type": "markdown",
   "id": "b9608747",
   "metadata": {},
   "source": [
    "说明：在最后一个卷积层前加入注意力模块\n",
    "\n",
    "def __init__(self):\n",
    "![image.png](attachment:image.png)\n",
    "\n",
    "def forward(self, x):\n",
    "![image-2.png](attachment:image-2.png)"
   ]
  },
  {
   "cell_type": "markdown",
   "id": "0408f733",
   "metadata": {},
   "source": [
    "#### （1）加入注意力机制1 eca注意力模块"
   ]
  },
  {
   "cell_type": "code",
   "execution_count": 8,
   "id": "binding-pledge",
   "metadata": {},
   "outputs": [],
   "source": [
    "# 在第二个卷积层后插入eca注意力模块\n",
    "\n",
    "\n",
    "import torch\n",
    "from torch import nn, optim\n",
    "import torch.nn.functional as F\n",
    "\n",
    "\n",
    "# 定义神经网络类\n",
    "class CNN_eca(nn.Module):\n",
    "    # 可学习参数的层（如全连接层、卷积层等）\n",
    "    def __init__(self):\n",
    "        super().__init__()\n",
    "        \n",
    "        # 第一部分卷积层1\n",
    "        self.conv1 = nn.Sequential(\n",
    "            # 卷积层(输入通道维1，输出通道维16，卷积窗口3*3)\n",
    "            nn.Conv2d(1, 16, kernel_size=(3,3), stride=1, padding=1),  # 维度变换(1,28,28) （黑白图像1通道，长28像素，宽28像素）->(16,28,28) （16个卷积核提取16个特征通道，长28，宽28）图像边缘扩展，没被卷积抛去\n",
    "            # 激活函数\n",
    "            nn.ReLU(),\n",
    "            # 池化层\n",
    "            nn.MaxPool2d(2) # 维度变化(16,28,28)->(16,14,14)\n",
    "        )\n",
    "            \n",
    "        # 第二部分卷积层2\n",
    "        self.conv2 = nn.Sequential(\n",
    "            # 卷积层(输入通道维16，输出通道维32，卷积窗口3*3)\n",
    "            nn.Conv2d(16, 32, kernel_size=(3,3), stride=1, padding=1),  # 维度变换(16,14,14)->(32,14,14)\n",
    "            # 激活函数\n",
    "            nn.ReLU(),\n",
    "            # 池化层\n",
    "            nn.MaxPool2d(2) # 维度变化(32,14,14)->(32,7,7)\n",
    "        )\n",
    "        \n",
    "        # 注意力机制eca模块\n",
    "        self.attention_eca = eca_block(32)\n",
    "#        self.attention_cbam = cbam_block(32)\n",
    "        \n",
    "            \n",
    "        # 全连接层\n",
    "        self.out = nn.Linear(32*7*7, 10)\n",
    "            \n",
    "            \n",
    "        \n",
    "    # 实现模型的功能，实现各个层之间的连接关系\n",
    "    # nn.functional实现不具有可学习参数的层(如ReLU、dropout、BatchNormanation层)的构造\n",
    "    def forward(self, x):\n",
    "        # 执行卷积层1 conv1\n",
    "        x = self.conv1(x)\n",
    "        # 执行卷积层2 conv2\n",
    "        x = self.conv2(x)\n",
    "        \n",
    "        # 插入注意力机制\n",
    "        x = self.attention_eca(x)\n",
    "#        x = self.attention_cbam(x)\n",
    "        \n",
    "        # 将图像数据转为1维\n",
    "        x = x.view(x.size(0),-1)\n",
    "        # 执行全连接层 out\n",
    "        x = self.out(x)\n",
    "        return x\n",
    "    "
   ]
  },
  {
   "cell_type": "markdown",
   "id": "2aea6420",
   "metadata": {},
   "source": [
    "#### （2）加入注意力机制1 CBAM注意力模块"
   ]
  },
  {
   "cell_type": "code",
   "execution_count": 9,
   "id": "1d908899",
   "metadata": {},
   "outputs": [],
   "source": [
    "# 在第二个卷积层后插入cbam注意力模块\n",
    "\n",
    "\n",
    "import torch\n",
    "from torch import nn, optim\n",
    "import torch.nn.functional as F\n",
    "\n",
    "\n",
    "# 定义神经网络类\n",
    "class CNN_cbam(nn.Module):\n",
    "    # 可学习参数的层（如全连接层、卷积层等）\n",
    "    def __init__(self):\n",
    "        super().__init__()\n",
    "        \n",
    "        # 第一部分卷积层1\n",
    "        self.conv1 = nn.Sequential(\n",
    "            # 卷积层(输入通道维1，输出通道维16，卷积窗口3*3)\n",
    "            nn.Conv2d(1, 16, kernel_size=(3,3), stride=1, padding=1),  # 维度变换(1,28,28) （黑白图像1通道，长28像素，宽28像素）->(16,28,28) （16个卷积核提取16个特征通道，长28，宽28）图像边缘扩展，没被卷积抛去\n",
    "            # 激活函数\n",
    "            nn.ReLU(),\n",
    "            # 池化层\n",
    "            nn.MaxPool2d(2) # 维度变化(16,28,28)->(16,14,14)\n",
    "        )\n",
    "            \n",
    "        # 第二部分卷积层2\n",
    "        self.conv2 = nn.Sequential(\n",
    "            # 卷积层(输入通道维16，输出通道维32，卷积窗口3*3)\n",
    "            nn.Conv2d(16, 32, kernel_size=(3,3), stride=1, padding=1),  # 维度变换(16,14,14)->(32,14,14)\n",
    "            # 激活函数\n",
    "            nn.ReLU(),\n",
    "            # 池化层\n",
    "            nn.MaxPool2d(2) # 维度变化(32,14,14)->(32,7,7)\n",
    "        )\n",
    "        \n",
    "        # 注意力机制eca模块\n",
    "#        self.attention_eca = eca_block(32)\n",
    "        self.attention_cbam = cbam_block(32)\n",
    "        \n",
    "            \n",
    "        # 全连接层\n",
    "        self.out = nn.Linear(32*7*7, 10)\n",
    "            \n",
    "            \n",
    "        \n",
    "    # 实现模型的功能，实现各个层之间的连接关系\n",
    "    # nn.functional实现不具有可学习参数的层(如ReLU、dropout、BatchNormanation层)的构造\n",
    "    def forward(self, x):\n",
    "        # 执行卷积层1 conv1\n",
    "        x = self.conv1(x)\n",
    "        # 执行卷积层2 conv2\n",
    "        x = self.conv2(x)\n",
    "        \n",
    "        # 插入注意力机制\n",
    "#        x = self.attention_eca(x)\n",
    "        x = self.attention_cbam(x)\n",
    "        \n",
    "        # 将图像数据转为1维\n",
    "        x = x.view(x.size(0),-1)\n",
    "        # 执行全连接层 out\n",
    "        x = self.out(x)\n",
    "        return x"
   ]
  },
  {
   "cell_type": "markdown",
   "id": "3dfa53c7",
   "metadata": {},
   "source": [
    "# 4.训练模型\n",
    "\n",
    "### 手动训练  （加入注意力机制不改变训练方法，此处仅为了保存结果）\n",
    "\n",
    "1.实例化模型\n",
    "```\n",
    "model变量 = 自定义神经网络类名()\n",
    "```\n",
    "\n",
    "2.定义损失函数和优化器\n",
    "```\n",
    "loss_func = nn.CrossEntropyLoss()\n",
    "\n",
    "optimizer = torch.optim.Adam(model变量.parameters(), lr = 学习率) \n",
    "```\n",
    "\n",
    "3.训练模型\n",
    "```\n",
    "for epoch in range(训练轮数):  # 训练轮数\n",
    "    \n",
    "    # 遍历训练集每条数据，进行训练 \n",
    "    running_loss = 0.0 # 记录一轮中每条训练数据预测的损失累加\n",
    "    for step, (x, y) in enumerate(训练集加载train_loader):   #【enumerate()枚举对象 得到格式（id，元素）】\n",
    "        b_x = Variable(x) # 数据x\n",
    "        b_y = Variable(y) # 标签y\n",
    "    \n",
    "        output = model_2(b_x) # 把数据输入进网络\n",
    "        loss = loss_func(output, b_y) # 计算一条数据的损失\n",
    "        running_loss += loss.item() # 损失累加\n",
    "        \n",
    "        optimizer.zero_grad() # 梯度置零\n",
    "        loss.backward()  # loss反向传播\n",
    "        optimizer.step() # 反向传播后参数更新\n",
    "        \n",
    "    \n",
    "    print('训练轮数：', epoch, ' 平均损失：',running_loss/len(train_loader)) #平均损失=每轮每条训练数据损失求和/每轮训练数据数\n",
    "\n",
    "```"
   ]
  },
  {
   "cell_type": "code",
   "execution_count": 10,
   "id": "1a3c953b",
   "metadata": {},
   "outputs": [],
   "source": [
    "from torch.autograd import Variable\n",
    "\n",
    "\n",
    "# 自定义训练方法\n",
    "def train(model):\n",
    "    \n",
    "    EPOCH = 3 # 训练轮数\n",
    "\n",
    "    #记录用于绘图\n",
    "    losses = []#记录每次迭代后训练的loss\n",
    "    eval_losses = []#测试的\n",
    "    \n",
    "    \n",
    "    # 损失函数\n",
    "    loss_func = nn.CrossEntropyLoss()\n",
    "\n",
    "    # 优化器\n",
    "    optimizer = torch.optim.Adam(model.parameters(), lr = 0.02) \n",
    "    \n",
    "\n",
    "\n",
    "    for epoch in range(EPOCH):  # 训练轮数\n",
    "        # 遍历训练集每条数据，进行训练，得到每轮损失loss\n",
    "        running_loss = 0.0\n",
    "        for step, (x, y) in enumerate(train_loader):   #【enumerate()枚举对象 得到格式（id，元素）】\n",
    "            b_x = Variable(x) # 数据x\n",
    "            b_y = Variable(y) # 标签y\n",
    "\n",
    "            output = model(b_x) # 把数据输入进网络\n",
    "            loss = loss_func(output, b_y) # 计算一条数据的损失\n",
    "            running_loss += loss.item() # 损失累加\n",
    "\n",
    "            optimizer.zero_grad() # 梯度置零\n",
    "            loss.backward()  # loss反向传播\n",
    "            optimizer.step() # 反向传播后参数更新\n",
    "\n",
    "        losses.append(running_loss/len(train_loader)) # 记录该轮平均损失，后续用于画图\n",
    "        print('训练轮数：', epoch, ' 训练平均损失loss：',running_loss/len(train_loader)) #平均损失=每轮每条训练数据损失求和/每轮训练数据数\n",
    "\n",
    "\n",
    "\n",
    "        # 遍历测试集每条数据，进行测试，每轮训练后损失val_loss\n",
    "        running_loss = 0.0\n",
    "        for step, (x, y) in enumerate(test_loader): \n",
    "            b_x = Variable(x) # 数据x\n",
    "            b_y = Variable(y) # 标签y\n",
    "\n",
    "            output = model(b_x) # 把数据输入进网络\n",
    "            loss = loss_func(output, b_y) # 计算一条数据的损失\n",
    "            running_loss += loss.item() # 损失累加\n",
    "\n",
    "        eval_losses.append(running_loss/len(test_loader)) # 记录该轮平均损失，后续用于画图\n",
    "        print('训练轮数：', epoch, ' 测试平均损失val_loss：',running_loss/len(test_loader)) #平均损失=每轮每条训练数据损失求和/每轮训练数据数\n",
    "\n",
    "        \n",
    "    print('end') \n",
    "    return losses, eval_losses\n",
    "\n",
    "    "
   ]
  },
  {
   "cell_type": "markdown",
   "id": "e460e1ba",
   "metadata": {},
   "source": [
    "#### （1）引入ecan注意力模块的cnn网络"
   ]
  },
  {
   "cell_type": "code",
   "execution_count": 11,
   "id": "83c03e60",
   "metadata": {},
   "outputs": [
    {
     "name": "stdout",
     "output_type": "stream",
     "text": [
      "CNN_eca(\n",
      "  (conv1): Sequential(\n",
      "    (0): Conv2d(1, 16, kernel_size=(3, 3), stride=(1, 1), padding=(1, 1))\n",
      "    (1): ReLU()\n",
      "    (2): MaxPool2d(kernel_size=2, stride=2, padding=0, dilation=1, ceil_mode=False)\n",
      "  )\n",
      "  (conv2): Sequential(\n",
      "    (0): Conv2d(16, 32, kernel_size=(3, 3), stride=(1, 1), padding=(1, 1))\n",
      "    (1): ReLU()\n",
      "    (2): MaxPool2d(kernel_size=2, stride=2, padding=0, dilation=1, ceil_mode=False)\n",
      "  )\n",
      "  (attention_eca): eca_block(\n",
      "    (avg_pool): AdaptiveAvgPool2d(output_size=1)\n",
      "    (conv): Conv1d(1, 1, kernel_size=(3,), stride=(1,), padding=(1,), bias=False)\n",
      "    (sigmoid): Sigmoid()\n",
      "  )\n",
      "  (out): Linear(in_features=1568, out_features=10, bias=True)\n",
      ")\n"
     ]
    }
   ],
   "source": [
    "# 初始化模型\n",
    "model = CNN_eca()\n",
    "\n",
    "# 查看模型\n",
    "print(model)"
   ]
  },
  {
   "cell_type": "code",
   "execution_count": 12,
   "id": "b4ea45be",
   "metadata": {},
   "outputs": [
    {
     "name": "stdout",
     "output_type": "stream",
     "text": [
      "训练轮数： 0  训练平均损失loss： 0.18988965840033217\n",
      "训练轮数： 0  测试平均损失val_loss： 0.09084089755335645\n",
      "训练轮数： 1  训练平均损失loss： 0.09557489749353959\n",
      "训练轮数： 1  测试平均损失val_loss： 0.09025640114781536\n",
      "训练轮数： 2  训练平均损失loss： 0.08604602461982606\n",
      "训练轮数： 2  测试平均损失val_loss： 0.07258586947517913\n",
      "end\n"
     ]
    }
   ],
   "source": [
    "# 训练\n",
    "\n",
    "losses, eval_losses = train(model)\n"
   ]
  },
  {
   "cell_type": "code",
   "execution_count": 13,
   "id": "9dc3433e",
   "metadata": {},
   "outputs": [
    {
     "data": {
      "image/png": "[encoded data removed]",
      "text/plain": [
       "<Figure size 432x288 with 1 Axes>"
      ]
     },
     "metadata": {
      "needs_background": "light"
     },
     "output_type": "display_data"
    }
   ],
   "source": [
    "# 画图\n",
    "import matplotlib.pyplot as plt\n",
    "\n",
    "plt.plot(range(len(losses)), losses, marker='o',label='losses')\n",
    "plt.plot(range(len(eval_losses)), eval_losses, marker='*',label='eval_losses')\n",
    "plt.legend() #图例\n",
    "plt.title(\"loss\") #标题\n",
    "\n",
    "plt.show()"
   ]
  },
  {
   "cell_type": "code",
   "execution_count": 14,
   "id": "55d33dfb",
   "metadata": {},
   "outputs": [],
   "source": [
    "# 保存模型 .save('模型.h5')\n",
    "\n",
    "torch.save(model,'pytorch_number_ecan.h5')"
   ]
  },
  {
   "cell_type": "markdown",
   "id": "dd4d54f8",
   "metadata": {},
   "source": [
    "#### （2）引入CBAM注意力模块的cnn网络"
   ]
  },
  {
   "cell_type": "code",
   "execution_count": 15,
   "id": "b3d92ec4",
   "metadata": {},
   "outputs": [
    {
     "name": "stdout",
     "output_type": "stream",
     "text": [
      "CNN_cbam(\n",
      "  (conv1): Sequential(\n",
      "    (0): Conv2d(1, 16, kernel_size=(3, 3), stride=(1, 1), padding=(1, 1))\n",
      "    (1): ReLU()\n",
      "    (2): MaxPool2d(kernel_size=2, stride=2, padding=0, dilation=1, ceil_mode=False)\n",
      "  )\n",
      "  (conv2): Sequential(\n",
      "    (0): Conv2d(16, 32, kernel_size=(3, 3), stride=(1, 1), padding=(1, 1))\n",
      "    (1): ReLU()\n",
      "    (2): MaxPool2d(kernel_size=2, stride=2, padding=0, dilation=1, ceil_mode=False)\n",
      "  )\n",
      "  (attention_cbam): cbam_block(\n",
      "    (channelattention): ChannelAttention(\n",
      "      (avg_pool): AdaptiveAvgPool2d(output_size=1)\n",
      "      (max_pool): AdaptiveMaxPool2d(output_size=1)\n",
      "      (fc): Sequential(\n",
      "        (0): Linear(in_features=32, out_features=4, bias=False)\n",
      "        (1): ReLU()\n",
      "        (2): Linear(in_features=4, out_features=32, bias=False)\n",
      "      )\n",
      "      (sigmoid): Sigmoid()\n",
      "    )\n",
      "    (spatialattention): SpatialAttention(\n",
      "      (conv1): Conv2d(2, 1, kernel_size=(7, 7), stride=(1, 1), padding=(3, 3), bias=False)\n",
      "      (sigmoid): Sigmoid()\n",
      "    )\n",
      "  )\n",
      "  (out): Linear(in_features=1568, out_features=10, bias=True)\n",
      ")\n"
     ]
    }
   ],
   "source": [
    "# 初始化模型\n",
    "model = CNN_cbam()\n",
    "\n",
    "# 查看模型\n",
    "print(model)"
   ]
  },
  {
   "cell_type": "code",
   "execution_count": 16,
   "id": "90102e36",
   "metadata": {},
   "outputs": [
    {
     "name": "stdout",
     "output_type": "stream",
     "text": [
      "训练轮数： 0  训练平均损失loss： 0.13573948981717968\n",
      "训练轮数： 0  测试平均损失val_loss： 0.06658591771320928\n",
      "训练轮数： 1  训练平均损失loss： 0.07286850459722759\n",
      "训练轮数： 1  测试平均损失val_loss： 0.08182605727554237\n",
      "训练轮数： 2  训练平均损失loss： 0.062505186008074\n",
      "训练轮数： 2  测试平均损失val_loss： 0.0666990170031481\n",
      "end\n"
     ]
    }
   ],
   "source": [
    "# 训练\n",
    "\n",
    "losses, eval_losses = train(model)"
   ]
  },
  {
   "cell_type": "code",
   "execution_count": 17,
   "id": "1afbe63f",
   "metadata": {},
   "outputs": [
    {
     "data": {
      "image/png": "[encoded data removed]",
      "text/plain": [
       "<Figure size 432x288 with 1 Axes>"
      ]
     },
     "metadata": {
      "needs_background": "light"
     },
     "output_type": "display_data"
    }
   ],
   "source": [
    "# 画图\n",
    "import matplotlib.pyplot as plt\n",
    "\n",
    "plt.plot(range(len(losses)), losses, marker='o',label='losses')\n",
    "plt.plot(range(len(eval_losses)), eval_losses, marker='*',label='eval_losses')\n",
    "plt.legend() #图例\n",
    "plt.title(\"loss\") #标题\n",
    "\n",
    "plt.show()"
   ]
  },
  {
   "cell_type": "code",
   "execution_count": 18,
   "id": "39975994",
   "metadata": {},
   "outputs": [],
   "source": [
    "# 保存模型 .save('模型.h5')\n",
    "\n",
    "torch.save(model,'pytorch_number_CBAM.h5')"
   ]
  },
  {
   "cell_type": "markdown",
   "id": "9d1ff6c5",
   "metadata": {},
   "source": [
    "# 5.模型预测"
   ]
  },
  {
   "cell_type": "code",
   "execution_count": 19,
   "id": "b358f7b2",
   "metadata": {},
   "outputs": [],
   "source": [
    "import torch\n",
    "from torch import nn, optim\n",
    "import torch.nn.functional as F\n",
    "from torchkeras import summary,Model\n",
    "from sklearn.metrics import accuracy_score\n"
   ]
  },
  {
   "cell_type": "code",
   "execution_count": 20,
   "id": "4aee0e0c",
   "metadata": {},
   "outputs": [],
   "source": [
    "# 加载模型\n",
    "\n",
    "#方法一训练模型\n",
    "model = torch.load('pytorch_number_ecan.h5')\n"
   ]
  },
  {
   "cell_type": "code",
   "execution_count": 21,
   "id": "b109cba0",
   "metadata": {},
   "outputs": [],
   "source": [
    "#方法二训练模型\n",
    "model_2 = torch.load('pytorch_number_CBAM.h5')\n"
   ]
  },
  {
   "cell_type": "code",
   "execution_count": 22,
   "id": "9238dfb1",
   "metadata": {},
   "outputs": [
    {
     "name": "stdout",
     "output_type": "stream",
     "text": [
      "图片原始格式: (4, 28, 28)\n",
      "标签： [1 0 4 1]\n",
      "图片转换成tensor格式后： torch.Size([4, 28, 28])\n"
     ]
    },
    {
     "data": {
      "text/plain": [
       "<function matplotlib.pyplot.show(close=None, block=None)>"
      ]
     },
     "execution_count": 22,
     "metadata": {},
     "output_type": "execute_result"
    },
    {
     "data": {
      "image/png": "[encoded data removed]",
      "text/plain": [
       "<Figure size 432x288 with 4 Axes>"
      ]
     },
     "metadata": {
      "needs_background": "light"
     },
     "output_type": "display_data"
    }
   ],
   "source": [
    "# 手动导入预测数据\n",
    "from tensorflow.keras.datasets import mnist\n",
    "import matplotlib.pyplot as plt\n",
    "\n",
    "\n",
    "\n",
    "(train_images, train_labels), (test_images, test_labels) = mnist.load_data() \n",
    "\n",
    "# 取前4张图片\n",
    "test_images = test_images[2:6]\n",
    "test_labels = test_labels[2:6]\n",
    "print('图片原始格式:', test_images.shape)\n",
    "print('标签：', test_labels)\n",
    "\n",
    "# 图片格式转换成tensor格式\n",
    "test_images = torch.tensor(test_images)\n",
    "print('图片转换成tensor格式后：', test_images.shape)\n",
    "\n",
    "for i in range(4):\n",
    "    plt.subplot(2,2,i+1)\n",
    "    plt.imshow(test_images[i])\n",
    "plt.show\n",
    "\n",
    "\n"
   ]
  },
  {
   "cell_type": "code",
   "execution_count": 23,
   "id": "3a0208ef",
   "metadata": {},
   "outputs": [
    {
     "name": "stdout",
     "output_type": "stream",
     "text": [
      "torch.Size([4, 28, 28])\n",
      "tensor([[[0., 0., 0.,  ..., 0., 0., 0.],\n",
      "         [0., 0., 0.,  ..., 0., 0., 0.],\n",
      "         [0., 0., 0.,  ..., 0., 0., 0.],\n",
      "         ...,\n",
      "         [0., 0., 0.,  ..., 0., 0., 0.],\n",
      "         [0., 0., 0.,  ..., 0., 0., 0.],\n",
      "         [0., 0., 0.,  ..., 0., 0., 0.]],\n",
      "\n",
      "        [[0., 0., 0.,  ..., 0., 0., 0.],\n",
      "         [0., 0., 0.,  ..., 0., 0., 0.],\n",
      "         [0., 0., 0.,  ..., 0., 0., 0.],\n",
      "         ...,\n",
      "         [0., 0., 0.,  ..., 0., 0., 0.],\n",
      "         [0., 0., 0.,  ..., 0., 0., 0.],\n",
      "         [0., 0., 0.,  ..., 0., 0., 0.]],\n",
      "\n",
      "        [[0., 0., 0.,  ..., 0., 0., 0.],\n",
      "         [0., 0., 0.,  ..., 0., 0., 0.],\n",
      "         [0., 0., 0.,  ..., 0., 0., 0.],\n",
      "         ...,\n",
      "         [0., 0., 0.,  ..., 0., 0., 0.],\n",
      "         [0., 0., 0.,  ..., 0., 0., 0.],\n",
      "         [0., 0., 0.,  ..., 0., 0., 0.]],\n",
      "\n",
      "        [[0., 0., 0.,  ..., 0., 0., 0.],\n",
      "         [0., 0., 0.,  ..., 0., 0., 0.],\n",
      "         [0., 0., 0.,  ..., 0., 0., 0.],\n",
      "         ...,\n",
      "         [0., 0., 0.,  ..., 0., 0., 0.],\n",
      "         [0., 0., 0.,  ..., 0., 0., 0.],\n",
      "         [0., 0., 0.,  ..., 0., 0., 0.]]])\n"
     ]
    }
   ],
   "source": [
    "from torch.autograd import Variable\n",
    "from torch.utils.data import Dataset, TensorDataset, DataLoader\n",
    "\n",
    "# 图片类型转换成FloatTensor(预测和训练数据类型一致)\n",
    "test_images = test_images.type(torch.FloatTensor)/255\n",
    "\n",
    "print(test_images.shape)\n",
    "print(test_images)\n"
   ]
  },
  {
   "cell_type": "code",
   "execution_count": 24,
   "id": "72140cf8",
   "metadata": {},
   "outputs": [
    {
     "name": "stdout",
     "output_type": "stream",
     "text": [
      "添加通道维度 torch.Size([4, 1, 28, 28])\n"
     ]
    }
   ],
   "source": [
    "# 为图片格式添加通道维\n",
    "pic = test_images[0:4]\n",
    "\n",
    "pic = pic.reshape(4,1,28,28)\n",
    "print('添加通道维度', pic.shape)"
   ]
  },
  {
   "cell_type": "markdown",
   "id": "a6d6ee79",
   "metadata": {},
   "source": [
    "#### 方法一模型预测"
   ]
  },
  {
   "cell_type": "code",
   "execution_count": 25,
   "id": "3e81d8c7",
   "metadata": {},
   "outputs": [
    {
     "name": "stdout",
     "output_type": "stream",
     "text": [
      "tensor([[ -7.5879,   6.0068,  -6.1445,  -6.8738,  -2.1846,  -5.2713,  -2.3496,\n",
      "          -3.7747,  -1.5638,  -5.5750],\n",
      "        [ 11.6574, -13.3926,  -6.1761,  -9.2735, -10.3886,  -4.2797,   3.1183,\n",
      "         -10.2301,  -0.1607,  -2.8816],\n",
      "        [-10.0512,  -9.1722,  -8.5755,  -8.8657,  10.3834,  -5.8854,  -5.1764,\n",
      "          -6.6423,  -3.1527,   3.0595],\n",
      "        [ -6.6544,   7.3282,  -5.2256,  -6.8219,  -0.8983,  -7.8311,  -3.9228,\n",
      "          -2.7717,  -1.0364,  -4.2945]], grad_fn=<AddmmBackward>)\n",
      "------\n",
      "torch.return_types.max(\n",
      "values=tensor([ 6.0068, 11.6574, 10.3834,  7.3282], grad_fn=<MaxBackward0>),\n",
      "indices=tensor([1, 0, 4, 1]))\n"
     ]
    }
   ],
   "source": [
    "# 预测模式\n",
    "\n",
    "output = model(pic)\n",
    "print(output)\n",
    "\n",
    "print('------')\n",
    "# 按行找到一行内值最大的列号\n",
    "prediction = torch.max(output, dim=1)\n",
    "print(prediction)"
   ]
  },
  {
   "cell_type": "markdown",
   "id": "d50953cf",
   "metadata": {},
   "source": [
    "#### 方法二模型预测"
   ]
  },
  {
   "cell_type": "code",
   "execution_count": 26,
   "id": "918258ca",
   "metadata": {},
   "outputs": [
    {
     "name": "stdout",
     "output_type": "stream",
     "text": [
      "tensor([[ -5.1041,   7.7332,  -0.8548,  -4.5944,  -0.1058,  -0.9129,  -1.5135,\n",
      "          -3.6446,  -1.2717,  -8.3571],\n",
      "        [  9.2908, -13.1763,  -2.8608,  -8.3327,  -6.0838,  -2.3921,   0.8160,\n",
      "          -4.2365,  -0.2540,  -2.4767],\n",
      "        [ -4.9967,  -9.6034,  -5.3789,  -8.5509,   7.8493, -11.9559,  -7.1761,\n",
      "          -4.8769,  -1.8397,   1.8562],\n",
      "        [ -4.9443,   7.9544,  -1.5032,  -3.5322,  -1.2632,  -3.0113,  -3.0389,\n",
      "          -0.6614,  -1.7896,  -6.5277]], grad_fn=<AddmmBackward>)\n",
      "------\n",
      "torch.return_types.max(\n",
      "values=tensor([7.7332, 9.2908, 7.8493, 7.9544], grad_fn=<MaxBackward0>),\n",
      "indices=tensor([1, 0, 4, 1]))\n"
     ]
    }
   ],
   "source": [
    "output = model_2(pic)\n",
    "print(output)\n",
    "\n",
    "print('------')\n",
    "# 按行找到一行内值最大的列号\n",
    "prediction = torch.max(output, dim=1)\n",
    "print(prediction)"
   ]
  },
  {
   "cell_type": "code",
   "execution_count": null,
   "id": "cb2fbdfa",
   "metadata": {},
   "outputs": [],
   "source": []
  },
  {
   "cell_type": "code",
   "execution_count": null,
   "id": "02bc08bb",
   "metadata": {},
   "outputs": [],
   "source": []
  },
  {
   "cell_type": "code",
   "execution_count": null,
   "id": "3a956d50",
   "metadata": {},
   "outputs": [],
   "source": []
  }
 ],
 "metadata": {
  "kernelspec": {
   "display_name": "Python 3",
   "language": "python",
   "name": "python3"
  },
  "language_info": {
   "codemirror_mode": {
    "name": "ipython",
    "version": 3
   },
   "file_extension": ".py",
   "mimetype": "text/x-python",
   "name": "python",
   "nbconvert_exporter": "python",
   "pygments_lexer": "ipython3",
   "version": "3.8.8"
  }
 },
 "nbformat": 4,
 "nbformat_minor": 5
}
